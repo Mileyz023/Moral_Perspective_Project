{
  "nbformat": 4,
  "nbformat_minor": 0,
  "metadata": {
    "colab": {
      "provenance": [],
      "collapsed_sections": [
        "ksry6rjnlvX0"
      ]
    },
    "kernelspec": {
      "name": "python3",
      "display_name": "Python 3"
    },
    "language_info": {
      "name": "python"
    }
  },
  "cells": [
    {
      "cell_type": "code",
      "source": [
        "import numpy as np\n",
        "import pandas as pd\n",
        "import csv\n",
        "import matplotlib.pyplot as plt\n",
        "from sklearn.model_selection import train_test_split\n",
        "import statsmodels.api as sm"
      ],
      "metadata": {
        "id": "8BmVbgcvoXGm"
      },
      "execution_count": 1,
      "outputs": []
    },
    {
      "cell_type": "code",
      "source": [
        "# Load the dataset\n",
        "df = pd.read_csv(\"controlled_variable_combined_new(final).csv\")"
      ],
      "metadata": {
        "id": "N2WhpMxT5Hwb"
      },
      "execution_count": 6,
      "outputs": []
    },
    {
      "cell_type": "markdown",
      "source": [
        "The Pair_ID variable is created to indicate pairs of consecutive decisions. By introducing the Pair_ID variable, we are explicitly grouping each pair of consecutive decisions made by participants. This variable assigns the same identifier to each pair of consecutive rows in the dataset. For example, if we have rows 1 and 2, rows 3 and 4, and so on, they will all have the same Pair_ID because they represent paired decisions. Treating Pairs as Single Observations: With the Pair_ID variable, each pair of consecutive decisions is treated as a single observation in the analysis. Instead of treating each decision independently, the model considers the paired decisions together as a single unit. This ensures that the paired nature of the decisions is explicitly accounted for in the analysis.\n",
        "\n",
        "In logistic regression models, observations are typically assumed to be independent and identically distributed (i.i.d.). However, in the context of paired decisions, each pair of decisions is not independent because the same participants decide which to spare/not within the compared group, where one has to be killed and the other will be spared. To address this, we use the freq_weights argument when fitting the model to specify that each pair of decisions should be weighted equally in the analysis. This ensures that each pair of decisions contributes equally to the estimation of model parameters and that the paired nature of the decisions is appropriately accounted for. For example, if some decision scenarios are more common in the dataset, frequency weights help to adjust their influence in the model, ensuring that the analysis doesn't become biased towards these more frequent scenarios.\n",
        "\n",
        "Without the Pair_ID variable, the model won't have any information about which decisions belong to the same pair, and thus it won't be able to distinguish between decisions made within the same pair versus decisions made in different pairs."
      ],
      "metadata": {
        "id": "MXpfsCmCoSt2"
      }
    },
    {
      "cell_type": "markdown",
      "source": [
        "Limitation: By assigning a unique identifier to each pair of decision, we are acknowledging that each decision to spare or not spare is made within the context of a pair, not in isolation.  which is crucial for logistic regression that assumes iid. Pair_ID is primarily used to calculate frequency weights, which adjust the analysis to account for the representation of each pair in the dataset. Frequency weights can help control for overrepresentation or underrepresentation of certain choice scenarios, ensuring that the model's estimation is not biased by the frequency of certain types of pairs.\n",
        "\n",
        "Nonetheless, we did not directly model this dependency in the sense of altering the logistic regression's estimation process to account for the paired nature. To further modeling the choice explicitly as a comparative decision (e.g., by using differences between characteristics of the two options as predictors) would more directly align with capturing the comparative nature of the decision-making process."
      ],
      "metadata": {
        "id": "O6AtkiWQYElY"
      }
    },
    {
      "cell_type": "code",
      "source": [
        "# Note: The 'Age' variable is treated as continuous in this context\n",
        "\n",
        "# Create a new variable for consecutive decision pairs directly in 'df'\n",
        "df['Pair_ID'] = df.index // 2\n",
        "\n",
        "\n",
        "# Define the formula with interaction terms\n",
        "formula = 'Spare ~ Gender + Perspective + Age + Gender:Perspective + Perspective:Age'\n",
        "\n",
        "# Split the data into training and testing sets, maintaining 'Pair_ID' for calculating frequency weights\n",
        "train, test = train_test_split(df, test_size=0.3, random_state=42)\n",
        "\n",
        "# Calculate frequency weights for each pair of decisions in the training data based on 'Pair_ID'\n",
        "pair_counts_train = train.groupby('Pair_ID').size()\n",
        "train['freq_weights'] = train['Pair_ID'].map(lambda x: 1 / pair_counts_train[x])\n",
        "\n",
        "# Fit the logistic regression model using GLM.from_formula\n",
        "model_cont_2 = sm.GLM.from_formula(formula=formula, data=train, family=sm.families.Binomial(), freq_weights=train['freq_weights'])\n",
        "result_cont_2 = model_cont_2.fit()\n",
        "\n",
        "# Print summary of the model\n",
        "print(\"Model: Treating Age as Continuous with Interaction Terms\")\n",
        "print(result_cont_2.summary())\n"
      ],
      "metadata": {
        "colab": {
          "base_uri": "https://localhost:8080/"
        },
        "id": "ReWslJGiISf5",
        "outputId": "5ccb03fb-a162-4ffc-90e6-f0ba5c5ff580"
      },
      "execution_count": 7,
      "outputs": [
        {
          "output_type": "stream",
          "name": "stdout",
          "text": [
            "Model: Treating Age as Continuous with Interaction Terms\n",
            "                 Generalized Linear Model Regression Results                  \n",
            "==============================================================================\n",
            "Dep. Variable:                  Spare   No. Observations:                 1909\n",
            "Model:                            GLM   Df Residuals:                     1228\n",
            "Model Family:                Binomial   Df Model:                            5\n",
            "Link Function:                  Logit   Scale:                          1.0000\n",
            "Method:                          IRLS   Log-Likelihood:                -717.03\n",
            "Date:                Wed, 10 Apr 2024   Deviance:                       1434.1\n",
            "Time:                        00:11:15   Pearson chi2:                 1.23e+03\n",
            "No. Iterations:                     4   Pseudo R-squ. (CS):             0.1344\n",
            "Covariance Type:            nonrobust                                         \n",
            "======================================================================================\n",
            "                         coef    std err          z      P>|z|      [0.025      0.975]\n",
            "--------------------------------------------------------------------------------------\n",
            "Intercept             -0.9620      0.160     -6.025      0.000      -1.275      -0.649\n",
            "Gender                 0.3245      0.177      1.834      0.067      -0.022       0.671\n",
            "Perspective           -0.9950      0.258     -3.854      0.000      -1.501      -0.489\n",
            "Age                    1.0972      0.120      9.172      0.000       0.863       1.332\n",
            "Gender:Perspective     0.6946      0.260      2.672      0.008       0.185       1.204\n",
            "Perspective:Age        0.2849      0.174      1.636      0.102      -0.056       0.626\n",
            "======================================================================================\n"
          ]
        }
      ]
    },
    {
      "cell_type": "code",
      "source": [
        "# Generate predicted probabilities for the test set\n",
        "test['predicted_probability'] = result_cont_2.predict(test)\n",
        "\n",
        "# Convert probabilities to binary predictions based on the threshold of 0.5\n",
        "test['predicted'] = (test['predicted_probability'] >= 0.5).astype(int)\n",
        "\n",
        "# Compute accuracy\n",
        "accuracy = (test['predicted'] == test['Spare']).mean()\n",
        "print(f\"Accuracy: {accuracy:.4f}\")\n",
        "\n"
      ],
      "metadata": {
        "colab": {
          "base_uri": "https://localhost:8080/"
        },
        "id": "pVEiEhzhJGmn",
        "outputId": "96df722b-af18-45a7-92f6-48bb6f7cc0e2"
      },
      "execution_count": 8,
      "outputs": [
        {
          "output_type": "stream",
          "name": "stdout",
          "text": [
            "Accuracy: 0.6996\n"
          ]
        }
      ]
    }
  ]
}
